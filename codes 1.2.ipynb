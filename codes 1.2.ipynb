{
 "cells": [
  {
   "cell_type": "code",
   "execution_count": 1,
   "id": "27f2a03f",
   "metadata": {},
   "outputs": [
    {
     "name": "stdout",
     "output_type": "stream",
     "text": [
      "hello world\n"
     ]
    }
   ],
   "source": [
    "print('hello world')"
   ]
  },
  {
   "cell_type": "code",
   "execution_count": 76,
   "id": "9c441ab9",
   "metadata": {},
   "outputs": [
    {
     "name": "stdout",
     "output_type": "stream",
     "text": [
      "Ashish Verma\n"
     ]
    }
   ],
   "source": [
    "print(\"Ashish Verma\")"
   ]
  },
  {
   "cell_type": "code",
   "execution_count": 78,
   "id": "edb4cfb4",
   "metadata": {},
   "outputs": [
    {
     "name": "stdout",
     "output_type": "stream",
     "text": [
      "Ashish \n",
      "Verma\n"
     ]
    }
   ],
   "source": [
    "print(\"Ashish \\nVerma\")"
   ]
  },
  {
   "cell_type": "code",
   "execution_count": 79,
   "id": "2f351a1d",
   "metadata": {},
   "outputs": [
    {
     "data": {
      "text/plain": [
       "366"
      ]
     },
     "execution_count": 79,
     "metadata": {},
     "output_type": "execute_result"
    }
   ],
   "source": [
    "122*3"
   ]
  },
  {
   "cell_type": "code",
   "execution_count": 80,
   "id": "1a43f7a7",
   "metadata": {},
   "outputs": [
    {
     "data": {
      "text/plain": [
       "'122122122'"
      ]
     },
     "execution_count": 80,
     "metadata": {},
     "output_type": "execute_result"
    }
   ],
   "source": [
    "\"122\"*3"
   ]
  },
  {
   "cell_type": "code",
   "execution_count": 84,
   "id": "211c8bcb",
   "metadata": {},
   "outputs": [
    {
     "data": {
      "text/plain": [
       "str"
      ]
     },
     "execution_count": 84,
     "metadata": {},
     "output_type": "execute_result"
    }
   ],
   "source": [
    "type(\"3456gvdcf\"*6)\n"
   ]
  },
  {
   "cell_type": "code",
   "execution_count": 83,
   "id": "3075745b",
   "metadata": {},
   "outputs": [
    {
     "name": "stdout",
     "output_type": "stream",
     "text": [
      "OilAnalytics\n"
     ]
    }
   ],
   "source": [
    "print(\"Oil\"+\"Analytics\")"
   ]
  },
  {
   "cell_type": "code",
   "execution_count": 85,
   "id": "4686d9ee",
   "metadata": {},
   "outputs": [
    {
     "data": {
      "text/plain": [
       "1"
      ]
     },
     "execution_count": 85,
     "metadata": {},
     "output_type": "execute_result"
    }
   ],
   "source": [
    "1256473%72"
   ]
  },
  {
   "cell_type": "code",
   "execution_count": 8,
   "id": "5a6e904d",
   "metadata": {},
   "outputs": [],
   "source": [
    "# integrs"
   ]
  },
  {
   "cell_type": "markdown",
   "id": "79b95f5d",
   "metadata": {},
   "source": [
    "##### "
   ]
  },
  {
   "cell_type": "code",
   "execution_count": 9,
   "id": "c502716c",
   "metadata": {},
   "outputs": [
    {
     "data": {
      "text/plain": [
       "5"
      ]
     },
     "execution_count": 9,
     "metadata": {},
     "output_type": "execute_result"
    }
   ],
   "source": [
    "5"
   ]
  },
  {
   "cell_type": "code",
   "execution_count": 10,
   "id": "7f420c9e",
   "metadata": {},
   "outputs": [
    {
     "data": {
      "text/plain": [
       "7"
      ]
     },
     "execution_count": 10,
     "metadata": {},
     "output_type": "execute_result"
    }
   ],
   "source": [
    "7"
   ]
  },
  {
   "cell_type": "code",
   "execution_count": 11,
   "id": "7f52974d",
   "metadata": {},
   "outputs": [
    {
     "data": {
      "text/plain": [
       "9"
      ]
     },
     "execution_count": 11,
     "metadata": {},
     "output_type": "execute_result"
    }
   ],
   "source": [
    "9"
   ]
  },
  {
   "cell_type": "code",
   "execution_count": 12,
   "id": "a959ca8d",
   "metadata": {},
   "outputs": [
    {
     "data": {
      "text/plain": [
       "1239856"
      ]
     },
     "execution_count": 12,
     "metadata": {},
     "output_type": "execute_result"
    }
   ],
   "source": [
    "1239856"
   ]
  },
  {
   "cell_type": "code",
   "execution_count": 13,
   "id": "b690e2d7",
   "metadata": {},
   "outputs": [
    {
     "data": {
      "text/plain": [
       "int"
      ]
     },
     "execution_count": 13,
     "metadata": {},
     "output_type": "execute_result"
    }
   ],
   "source": [
    "type(123)"
   ]
  },
  {
   "cell_type": "code",
   "execution_count": 14,
   "id": "128b052c",
   "metadata": {},
   "outputs": [],
   "source": [
    "# float"
   ]
  },
  {
   "cell_type": "code",
   "execution_count": 16,
   "id": "464d7d40",
   "metadata": {},
   "outputs": [
    {
     "data": {
      "text/plain": [
       "float"
      ]
     },
     "execution_count": 16,
     "metadata": {},
     "output_type": "execute_result"
    }
   ],
   "source": [
    "type(56.0)"
   ]
  },
  {
   "cell_type": "code",
   "execution_count": 17,
   "id": "2719e4b9",
   "metadata": {},
   "outputs": [
    {
     "data": {
      "text/plain": [
       "float"
      ]
     },
     "execution_count": 17,
     "metadata": {},
     "output_type": "execute_result"
    }
   ],
   "source": [
    "type(0.234)"
   ]
  },
  {
   "cell_type": "code",
   "execution_count": 19,
   "id": "e5c22d01",
   "metadata": {},
   "outputs": [],
   "source": [
    "# string"
   ]
  },
  {
   "cell_type": "code",
   "execution_count": 20,
   "id": "0716b1b1",
   "metadata": {},
   "outputs": [
    {
     "data": {
      "text/plain": [
       "'a'"
      ]
     },
     "execution_count": 20,
     "metadata": {},
     "output_type": "execute_result"
    }
   ],
   "source": [
    "\"a\""
   ]
  },
  {
   "cell_type": "code",
   "execution_count": 22,
   "id": "0c02b453",
   "metadata": {},
   "outputs": [
    {
     "name": "stdout",
     "output_type": "stream",
     "text": [
      "a\n"
     ]
    }
   ],
   "source": [
    "print(\"a\")"
   ]
  },
  {
   "cell_type": "code",
   "execution_count": 24,
   "id": "cfa4dc1b",
   "metadata": {},
   "outputs": [
    {
     "data": {
      "text/plain": [
       "str"
      ]
     },
     "execution_count": 24,
     "metadata": {},
     "output_type": "execute_result"
    }
   ],
   "source": [
    "type(\"a\")"
   ]
  },
  {
   "cell_type": "code",
   "execution_count": 25,
   "id": "13953478",
   "metadata": {},
   "outputs": [
    {
     "data": {
      "text/plain": [
       "str"
      ]
     },
     "execution_count": 25,
     "metadata": {},
     "output_type": "execute_result"
    }
   ],
   "source": [
    "type(\"1234\")"
   ]
  },
  {
   "cell_type": "code",
   "execution_count": 26,
   "id": "3947b226",
   "metadata": {},
   "outputs": [
    {
     "name": "stdout",
     "output_type": "stream",
     "text": [
      "<class 'int'>\n",
      "<class 'str'>\n",
      "<class 'float'>\n"
     ]
    }
   ],
   "source": [
    "print(type(23))\n",
    "print(type('98'))\n",
    "print(type(74.0))"
   ]
  },
  {
   "cell_type": "code",
   "execution_count": 27,
   "id": "9cd42a8b",
   "metadata": {},
   "outputs": [],
   "source": [
    "## Booleans"
   ]
  },
  {
   "cell_type": "code",
   "execution_count": 29,
   "id": "1a1fda4a",
   "metadata": {},
   "outputs": [
    {
     "data": {
      "text/plain": [
       "True"
      ]
     },
     "execution_count": 29,
     "metadata": {},
     "output_type": "execute_result"
    }
   ],
   "source": [
    "True"
   ]
  },
  {
   "cell_type": "code",
   "execution_count": 32,
   "id": "33f7e312",
   "metadata": {},
   "outputs": [
    {
     "data": {
      "text/plain": [
       "bool"
      ]
     },
     "execution_count": 32,
     "metadata": {},
     "output_type": "execute_result"
    }
   ],
   "source": [
    "type(True)"
   ]
  },
  {
   "cell_type": "code",
   "execution_count": 33,
   "id": "2ff0155b",
   "metadata": {},
   "outputs": [
    {
     "data": {
      "text/plain": [
       "False"
      ]
     },
     "execution_count": 33,
     "metadata": {},
     "output_type": "execute_result"
    }
   ],
   "source": [
    "False"
   ]
  },
  {
   "cell_type": "code",
   "execution_count": 34,
   "id": "06290dd5",
   "metadata": {},
   "outputs": [
    {
     "data": {
      "text/plain": [
       "bool"
      ]
     },
     "execution_count": 34,
     "metadata": {},
     "output_type": "execute_result"
    }
   ],
   "source": [
    "type(False)"
   ]
  },
  {
   "cell_type": "code",
   "execution_count": 36,
   "id": "fbc2d61d",
   "metadata": {},
   "outputs": [],
   "source": [
    "# mathematical operation"
   ]
  },
  {
   "cell_type": "code",
   "execution_count": 37,
   "id": "3cfef156",
   "metadata": {},
   "outputs": [
    {
     "data": {
      "text/plain": [
       "551"
      ]
     },
     "execution_count": 37,
     "metadata": {},
     "output_type": "execute_result"
    }
   ],
   "source": [
    "545+6"
   ]
  },
  {
   "cell_type": "code",
   "execution_count": 38,
   "id": "58dffc74",
   "metadata": {},
   "outputs": [
    {
     "data": {
      "text/plain": [
       "1155"
      ]
     },
     "execution_count": 38,
     "metadata": {},
     "output_type": "execute_result"
    }
   ],
   "source": [
    "897+258"
   ]
  },
  {
   "cell_type": "code",
   "execution_count": 39,
   "id": "fc9e4f39",
   "metadata": {},
   "outputs": [
    {
     "data": {
      "text/plain": [
       "17"
      ]
     },
     "execution_count": 39,
     "metadata": {},
     "output_type": "execute_result"
    }
   ],
   "source": [
    "25-8"
   ]
  },
  {
   "cell_type": "code",
   "execution_count": 40,
   "id": "b0f83738",
   "metadata": {},
   "outputs": [
    {
     "data": {
      "text/plain": [
       "663"
      ]
     },
     "execution_count": 40,
     "metadata": {},
     "output_type": "execute_result"
    }
   ],
   "source": [
    "978-315"
   ]
  },
  {
   "cell_type": "code",
   "execution_count": 41,
   "id": "b569e73d",
   "metadata": {},
   "outputs": [
    {
     "data": {
      "text/plain": [
       "156"
      ]
     },
     "execution_count": 41,
     "metadata": {},
     "output_type": "execute_result"
    }
   ],
   "source": [
    "78*2"
   ]
  },
  {
   "cell_type": "code",
   "execution_count": 42,
   "id": "739630d2",
   "metadata": {},
   "outputs": [
    {
     "data": {
      "text/plain": [
       "8712"
      ]
     },
     "execution_count": 42,
     "metadata": {},
     "output_type": "execute_result"
    }
   ],
   "source": [
    "99*88"
   ]
  },
  {
   "cell_type": "code",
   "execution_count": 43,
   "id": "c4637a4e",
   "metadata": {},
   "outputs": [
    {
     "data": {
      "text/plain": [
       "1.0"
      ]
     },
     "execution_count": 43,
     "metadata": {},
     "output_type": "execute_result"
    }
   ],
   "source": [
    "8/8"
   ]
  },
  {
   "cell_type": "code",
   "execution_count": 44,
   "id": "81c7f987",
   "metadata": {},
   "outputs": [
    {
     "data": {
      "text/plain": [
       "448.5"
      ]
     },
     "execution_count": 44,
     "metadata": {},
     "output_type": "execute_result"
    }
   ],
   "source": [
    "897/2"
   ]
  },
  {
   "cell_type": "code",
   "execution_count": 45,
   "id": "3e536595",
   "metadata": {},
   "outputs": [
    {
     "data": {
      "text/plain": [
       "21.0"
      ]
     },
     "execution_count": 45,
     "metadata": {},
     "output_type": "execute_result"
    }
   ],
   "source": [
    "441/21"
   ]
  },
  {
   "cell_type": "code",
   "execution_count": 46,
   "id": "f61ed52d",
   "metadata": {},
   "outputs": [
    {
     "data": {
      "text/plain": [
       "132651"
      ]
     },
     "execution_count": 46,
     "metadata": {},
     "output_type": "execute_result"
    }
   ],
   "source": [
    "# power\n",
    "51**3"
   ]
  },
  {
   "cell_type": "code",
   "execution_count": 47,
   "id": "dd3d60ab",
   "metadata": {},
   "outputs": [
    {
     "data": {
      "text/plain": [
       "15625"
      ]
     },
     "execution_count": 47,
     "metadata": {},
     "output_type": "execute_result"
    }
   ],
   "source": [
    "5**6"
   ]
  },
  {
   "cell_type": "code",
   "execution_count": 49,
   "id": "05645136",
   "metadata": {},
   "outputs": [
    {
     "data": {
      "text/plain": [
       "25"
      ]
     },
     "execution_count": 49,
     "metadata": {},
     "output_type": "execute_result"
    }
   ],
   "source": [
    "5**2"
   ]
  },
  {
   "cell_type": "code",
   "execution_count": 50,
   "id": "39707eac",
   "metadata": {},
   "outputs": [
    {
     "data": {
      "text/plain": [
       "21"
      ]
     },
     "execution_count": 50,
     "metadata": {},
     "output_type": "execute_result"
    }
   ],
   "source": [
    "441//21"
   ]
  },
  {
   "cell_type": "code",
   "execution_count": 51,
   "id": "8d3124dc",
   "metadata": {},
   "outputs": [
    {
     "data": {
      "text/plain": [
       "120"
      ]
     },
     "execution_count": 51,
     "metadata": {},
     "output_type": "execute_result"
    }
   ],
   "source": [
    "# quotient\n",
    "1444//12"
   ]
  },
  {
   "cell_type": "code",
   "execution_count": 52,
   "id": "e63a3057",
   "metadata": {},
   "outputs": [
    {
     "data": {
      "text/plain": [
       "5"
      ]
     },
     "execution_count": 52,
     "metadata": {},
     "output_type": "execute_result"
    }
   ],
   "source": [
    "# reminder\n",
    "89%6"
   ]
  },
  {
   "cell_type": "code",
   "execution_count": 53,
   "id": "02494740",
   "metadata": {},
   "outputs": [
    {
     "data": {
      "text/plain": [
       "3"
      ]
     },
     "execution_count": 53,
     "metadata": {},
     "output_type": "execute_result"
    }
   ],
   "source": [
    "98%5"
   ]
  },
  {
   "cell_type": "code",
   "execution_count": 55,
   "id": "3c553050",
   "metadata": {},
   "outputs": [
    {
     "data": {
      "text/plain": [
       "'5622'"
      ]
     },
     "execution_count": 55,
     "metadata": {},
     "output_type": "execute_result"
    }
   ],
   "source": [
    "\"operation string\"\n",
    "\"56\"+\"22\""
   ]
  },
  {
   "cell_type": "code",
   "execution_count": 56,
   "id": "de9f0efd",
   "metadata": {},
   "outputs": [
    {
     "data": {
      "text/plain": [
       "'123450987'"
      ]
     },
     "execution_count": 56,
     "metadata": {},
     "output_type": "execute_result"
    }
   ],
   "source": [
    "\"12345\"+\"0987\""
   ]
  },
  {
   "cell_type": "code",
   "execution_count": 57,
   "id": "b6748f70",
   "metadata": {},
   "outputs": [
    {
     "data": {
      "text/plain": [
       "'IndianAirForce'"
      ]
     },
     "execution_count": 57,
     "metadata": {},
     "output_type": "execute_result"
    }
   ],
   "source": [
    "\"Indian\"+\"Air\"+\"Force\""
   ]
  },
  {
   "cell_type": "code",
   "execution_count": 60,
   "id": "cf07a784",
   "metadata": {},
   "outputs": [
    {
     "data": {
      "text/plain": [
       "'GreatEngineerA1'"
      ]
     },
     "execution_count": 60,
     "metadata": {},
     "output_type": "execute_result"
    }
   ],
   "source": [
    "\"Great\"+\"Engineer\"+\"A\"+\"1\""
   ]
  },
  {
   "cell_type": "code",
   "execution_count": 62,
   "id": "22d11ec0",
   "metadata": {},
   "outputs": [
    {
     "data": {
      "text/plain": [
       "'121212'"
      ]
     },
     "execution_count": 62,
     "metadata": {},
     "output_type": "execute_result"
    }
   ],
   "source": [
    "\"12\"*3"
   ]
  },
  {
   "cell_type": "code",
   "execution_count": 66,
   "id": "7bd972ec",
   "metadata": {},
   "outputs": [
    {
     "data": {
      "text/plain": [
       "'011001100110011001100110011001100110'"
      ]
     },
     "execution_count": 66,
     "metadata": {},
     "output_type": "execute_result"
    }
   ],
   "source": [
    "\"0110\"*9"
   ]
  },
  {
   "cell_type": "code",
   "execution_count": 68,
   "id": "b434641a",
   "metadata": {},
   "outputs": [
    {
     "data": {
      "text/plain": [
       "True"
      ]
     },
     "execution_count": 68,
     "metadata": {},
     "output_type": "execute_result"
    }
   ],
   "source": [
    "#comparison\n",
    "56>8"
   ]
  },
  {
   "cell_type": "code",
   "execution_count": 70,
   "id": "d9b3e39d",
   "metadata": {},
   "outputs": [
    {
     "data": {
      "text/plain": [
       "False"
      ]
     },
     "execution_count": 70,
     "metadata": {},
     "output_type": "execute_result"
    }
   ],
   "source": [
    "88<9"
   ]
  },
  {
   "cell_type": "code",
   "execution_count": 71,
   "id": "e3a5ae34",
   "metadata": {},
   "outputs": [
    {
     "data": {
      "text/plain": [
       "False"
      ]
     },
     "execution_count": 71,
     "metadata": {},
     "output_type": "execute_result"
    }
   ],
   "source": [
    "88>99 or 99<88"
   ]
  },
  {
   "cell_type": "code",
   "execution_count": null,
   "id": "16ab0207",
   "metadata": {},
   "outputs": [],
   "source": []
  }
 ],
 "metadata": {
  "kernelspec": {
   "display_name": "Python 3 (ipykernel)",
   "language": "python",
   "name": "python3"
  },
  "language_info": {
   "codemirror_mode": {
    "name": "ipython",
    "version": 3
   },
   "file_extension": ".py",
   "mimetype": "text/x-python",
   "name": "python",
   "nbconvert_exporter": "python",
   "pygments_lexer": "ipython3",
   "version": "3.10.9"
  }
 },
 "nbformat": 4,
 "nbformat_minor": 5
}
